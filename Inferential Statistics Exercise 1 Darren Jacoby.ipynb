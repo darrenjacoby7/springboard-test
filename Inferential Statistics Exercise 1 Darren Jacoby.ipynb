{
 "cells": [
  {
   "cell_type": "markdown",
   "metadata": {},
   "source": [
    "# What is the True Normal Human Body Temperature? \n",
    "\n",
    "#### Background\n",
    "\n",
    "The mean normal body temperature was held to be 37$^{\\circ}$C or 98.6$^{\\circ}$F for more than 120 years since it was first conceptualized and reported by Carl Wunderlich in a famous 1868 book. But, is this value statistically correct?"
   ]
  },
  {
   "cell_type": "markdown",
   "metadata": {},
   "source": [
    "<h3>Exercises</h3>\n",
    "\n",
    "<p>In this exercise, you will analyze a dataset of human body temperatures and employ the concepts of hypothesis testing, confidence intervals, and statistical significance.</p>\n",
    "\n",
    "<p>Answer the following questions <b>in this notebook below and submit to your Github account</b>.</p> \n",
    "\n",
    "<ol>\n",
    "<li>  Is the distribution of body temperatures normal? \n",
    "    <ul>\n",
    "    <li> Although this is not a requirement for the Central Limit Theorem to hold (read the introduction on Wikipedia's page about the CLT carefully: https://en.wikipedia.org/wiki/Central_limit_theorem), it gives us some peace of mind that the population may also be normally distributed if we assume that this sample is representative of the population.\n",
    "    <li> Think about the way you're going to check for the normality of the distribution. Graphical methods are usually used first, but there are also other ways: https://en.wikipedia.org/wiki/Normality_test\n",
    "    </ul>\n",
    "<li>  Is the sample size large? Are the observations independent?\n",
    "    <ul>\n",
    "    <li> Remember that this is a condition for the Central Limit Theorem, and hence the statistical tests we are using, to apply.\n",
    "    </ul>\n",
    "<li>  Is the true population mean really 98.6 degrees F?\n",
    "    <ul>\n",
    "    <li> First, try a bootstrap hypothesis test.\n",
    "    <li> Now, let's try frequentist statistical testing. Would you use a one-sample or two-sample test? Why?\n",
    "    <li> In this situation, is it appropriate to use the $t$ or $z$ statistic? \n",
    "    <li> Now try using the other test. How is the result be different? Why?\n",
    "    </ul>\n",
    "<li>  Draw a small sample of size 10 from the data and repeat both frequentist tests. \n",
    "    <ul>\n",
    "    <li> Which one is the correct one to use? \n",
    "    <li> What do you notice? What does this tell you about the difference in application of the $t$ and $z$ statistic?\n",
    "    </ul>\n",
    "<li>  At what temperature should we consider someone's temperature to be \"abnormal\"?\n",
    "    <ul>\n",
    "    <li> As in the previous example, try calculating everything using the boostrap approach, as well as the frequentist approach.\n",
    "    <li> Start by computing the margin of error and confidence interval. When calculating the confidence interval, keep in mind that you should use the appropriate formula for one draw, and not N draws.\n",
    "    </ul>\n",
    "<li>  Is there a significant difference between males and females in normal temperature?\n",
    "    <ul>\n",
    "    <li> What testing approach did you use and why?\n",
    "    <li> Write a story with your conclusion in the context of the original problem.\n",
    "    </ul>\n",
    "</ol>\n",
    "\n",
    "You can include written notes in notebook cells using Markdown: \n",
    "   - In the control panel at the top, choose Cell > Cell Type > Markdown\n",
    "   - Markdown syntax: http://nestacms.com/docs/creating-content/markdown-cheat-sheet\n",
    "\n",
    "#### Resources\n",
    "\n",
    "+ Information and data sources: http://www.amstat.org/publications/jse/datasets/normtemp.txt, http://www.amstat.org/publications/jse/jse_data_archive.htm\n",
    "+ Markdown syntax: http://nestacms.com/docs/creating-content/markdown-cheat-sheet\n",
    "\n",
    "****"
   ]
  },
  {
   "cell_type": "code",
   "execution_count": 2,
   "metadata": {},
   "outputs": [],
   "source": [
    "import pandas as pd\n",
    "\n",
    "df = pd.read_csv('data/human_body_temperature.csv')"
   ]
  },
  {
   "cell_type": "code",
   "execution_count": 8,
   "metadata": {},
   "outputs": [
    {
     "data": {
      "text/plain": [
       "(array([ 2.,  0.,  2.,  1.,  2.,  3.,  4.,  5.,  6.,  3., 12., 11., 13.,\n",
       "         5., 12., 10., 18.,  2.,  8.,  3.,  4.,  1.,  0.,  0.,  2.,  0.,\n",
       "         0.,  0.,  0.,  1.]),\n",
       " array([ 96.3 ,  96.45,  96.6 ,  96.75,  96.9 ,  97.05,  97.2 ,  97.35,\n",
       "         97.5 ,  97.65,  97.8 ,  97.95,  98.1 ,  98.25,  98.4 ,  98.55,\n",
       "         98.7 ,  98.85,  99.  ,  99.15,  99.3 ,  99.45,  99.6 ,  99.75,\n",
       "         99.9 , 100.05, 100.2 , 100.35, 100.5 , 100.65, 100.8 ]),\n",
       " <a list of 30 Patch objects>)"
      ]
     },
     "execution_count": 8,
     "metadata": {},
     "output_type": "execute_result"
    },
    {
     "data": {
      "image/png": "[encoded data removed]",
      "text/plain": [
       "<matplotlib.figure.Figure at 0x2b3fcf6ff60>"
      ]
     },
     "metadata": {},
     "output_type": "display_data"
    }
   ],
   "source": [
    "#1a. Plotting Histogram of data. Looks relatively normal with some differences at the tails\n",
    "import matplotlib.pyplot as plt\n",
    "plt.hist('temperature',data=df, bins=30)"
   ]
  },
  {
   "cell_type": "code",
   "execution_count": 9,
   "metadata": {},
   "outputs": [
    {
     "data": {
      "image/png": "[encoded data removed]",
      "text/plain": [
       "<matplotlib.figure.Figure at 0x2b3fec639e8>"
      ]
     },
     "metadata": {},
     "output_type": "display_data"
    }
   ],
   "source": [
    "#1b. Q-Q Plot looks normallywith some variation at the extremes, similar to histogram above\n",
    "\n",
    "from numpy.random import seed\n",
    "from numpy.random import randn\n",
    "from statsmodels.graphics.gofplots import qqplot\n",
    "from matplotlib import pyplot\n",
    "# seed the random number generator\n",
    "seed(1)\n",
    "# generate univariate observations\n",
    "data = 5 * randn(100) + 50\n",
    "# q-q plot\n",
    "qqplot(df['temperature'], line='s')\n",
    "pyplot.show()"
   ]
  },
  {
   "cell_type": "code",
   "execution_count": 21,
   "metadata": {},
   "outputs": [
    {
     "data": {
      "text/plain": [
       "130"
      ]
     },
     "execution_count": 21,
     "metadata": {},
     "output_type": "execute_result"
    }
   ],
   "source": [
    "#2. 130 observations in the dataset. Reasonably large to be normally distributed. Dataset are independent observations\n",
    "len(df)"
   ]
  },
  {
   "cell_type": "code",
   "execution_count": 43,
   "metadata": {},
   "outputs": [
    {
     "data": {
      "text/plain": [
       "98.24923076923078"
      ]
     },
     "execution_count": 43,
     "metadata": {},
     "output_type": "execute_result"
    }
   ],
   "source": [
    "import numpy as np\n",
    "observed_mean=np.mean(df.temperature)\n",
    "observed_mean\n",
    "#observed mean is already lower than 98.6"
   ]
  },
  {
   "cell_type": "code",
   "execution_count": 42,
   "metadata": {},
   "outputs": [
    {
     "data": {
      "text/plain": [
       "array([98.2, 99. , 99.3, 98.6, 97.4, 97.7, 98.8, 98.6, 98.4, 98.2, 98.7,\n",
       "       97.8, 97.1, 98.3, 98.8, 99.4, 97.1, 97.8, 98.8, 99. , 98.6, 99.2,\n",
       "       98.8, 97.6, 98.6, 98.1, 97.4, 98.6, 99. , 98.9, 98. , 97.8, 97.2,\n",
       "       97.8, 97.3, 97.4, 97.8, 99.3, 98.8, 98.4, 99.9, 98.8, 97.4, 98. ,\n",
       "       98.2, 97.6, 97.6, 97.7, 98.4, 98.2, 97.2, 98.6, 98.5, 97.4, 98.2,\n",
       "       97.6, 98.8, 98. , 98.3, 97.6, 99.4, 98.7, 98.2, 97.8, 99.1, 97.7,\n",
       "       97.8, 99.3, 98.4, 98. , 97. , 97.8, 98.8, 97.5, 97.6, 98.2, 97.1,\n",
       "       98.8, 97.9, 97.1, 97.9, 98.8, 98. , 98. , 98.4, 98.4, 97.6, 97.9,\n",
       "       96.7, 98.7, 97.7, 97.8, 99.1, 97.1, 97.3, 98.4, 98.5, 98.7, 98.4,\n",
       "       98.8])"
      ]
     },
     "execution_count": 42,
     "metadata": {},
     "output_type": "execute_result"
    }
   ],
   "source": [
    "#3a. Bootstrap hypothesis test\n",
    "data=df.temperature\n",
    "means=np.empty(1000)\n",
    "for i in range(1000):\n",
    "    observations=np.empty(100)\n",
    "    for j in range(100):\n",
    "        observations[j]=np.random.choice(data)\n",
    "    means[i]=np.mean(observations)\n",
    "means\n",
    "observations"
   ]
  },
  {
   "cell_type": "code",
   "execution_count": 45,
   "metadata": {},
   "outputs": [
    {
     "data": {
      "text/plain": [
       "1.0"
      ]
     },
     "execution_count": 45,
     "metadata": {},
     "output_type": "execute_result"
    }
   ],
   "source": [
    "In all of our samples, the bootstrapped mean is <98.6, showing that the mean is likely not 98.6\n",
    "p=np.sum(means<98.6)/len(means)\n",
    "p"
   ]
  },
  {
   "cell_type": "code",
   "execution_count": 64,
   "metadata": {},
   "outputs": [
    {
     "name": "stdout",
     "output_type": "stream",
     "text": [
      "98.24923076923078\n",
      "0.7303577789050377\n",
      "-5.475925202078116\n"
     ]
    }
   ],
   "source": [
    "#3b. Frequentist hypothesis test. Will use one sample because we're comparing to a null hypothesis (pop. mean =96.8) as opposed to another group of observations\n",
    "#Will use Z test because more than 30 samples\n",
    "#Null hypothesis, pop. mean = 98.6. Alternate hypothesis, pop.mean not equal to 98.6. Alpha of .05, which means if Z>1.96 or Z<-1.96 we reject\n",
    "temp_mean=np.mean(data)\n",
    "temp_std=np.std(data)\n",
    "print(temp_mean)\n",
    "print(temp_std)\n",
    "z= (temp_mean-98.6)/(temp_std/np.sqrt(len(data)))\n",
    "print(z)\n",
    "#With Z>1.96, we reject the null hypothesis and say the population mean is not 98.6. Conclusion is the same"
   ]
  },
  {
   "cell_type": "code",
   "execution_count": 65,
   "metadata": {},
   "outputs": [
    {
     "data": {
      "text/plain": [
       "array([99.5, 99.4, 98. , 98.4, 98.2, 99.3, 99.1, 97.6, 98.2, 98.7])"
      ]
     },
     "execution_count": 65,
     "metadata": {},
     "output_type": "execute_result"
    }
   ],
   "source": [
    "#4. Smaller sample, using t-test because sample size is smaller than 30\n",
    "sample=np.empty(10)\n",
    "for i in range(10):\n",
    "    sample[i]=np.random.choice(data)\n",
    "sample"
   ]
  },
  {
   "cell_type": "code",
   "execution_count": 70,
   "metadata": {},
   "outputs": [
    {
     "data": {
      "text/plain": [
       "0.20244408254483248"
      ]
     },
     "execution_count": 70,
     "metadata": {},
     "output_type": "execute_result"
    }
   ],
   "source": [
    "sample_mean=np.mean(sample)\n",
    "sample_std=np.std(sample)\n",
    "test_stat=(sample_mean-98.6)/(sample_std/np.sqrt(len(sample)))\n",
    "#Finding test statistic with 9 degrees of freedom and .05 on two sided test gives 2.262 for null hypothesis. so if we're greater than 2.262 or less than - 2.262, we reject\n",
    "test_stat\n",
    "#therefore, we do not reject the null hypothesis in this case\n",
    "#clearly this smaller sample size made it harder to reject the null hypothesis and gave us a different answer"
   ]
  },
  {
   "cell_type": "code",
   "execution_count": 71,
   "metadata": {},
   "outputs": [
    {
     "data": {
      "text/plain": [
       "array([98.101, 98.4  ])"
      ]
     },
     "execution_count": 71,
     "metadata": {},
     "output_type": "execute_result"
    }
   ],
   "source": [
    "#5a. Calculating 95% conf int for temperature mean using bootstrap\n",
    "means=np.empty(1000)\n",
    "for i in range(1000):\n",
    "    observations=np.empty(100)\n",
    "    for j in range(100):\n",
    "        observations[j]=np.random.choice(data)\n",
    "    means[i]=np.mean(observations)\n",
    "conf_int=np.percentile(means,[2.5,97.5])\n",
    "conf_int\n",
    "#Any temperature outside of 98.101 and 98.4 should be considered abnormal"
   ]
  },
  {
   "cell_type": "code",
   "execution_count": 74,
   "metadata": {},
   "outputs": [
    {
     "name": "stdout",
     "output_type": "stream",
     "text": [
      "98.37478173403336\n",
      "98.12367980442819\n"
     ]
    }
   ],
   "source": [
    "#5b. Calcuating 95% conf int for temperature mean using frequentist\n",
    "conf_int_upper=temp_mean+(1.96)*(temp_std/np.sqrt(len(data)))\n",
    "conf_int_lower=temp_mean-(1.96)*(temp_std/np.sqrt(len(data)))\n",
    "print(conf_int_upper)\n",
    "print(conf_int_lower)"
   ]
  },
  {
   "cell_type": "code",
   "execution_count": 90,
   "metadata": {},
   "outputs": [
    {
     "name": "stdout",
     "output_type": "stream",
     "text": [
      "M    65\n",
      "F    65\n",
      "Name: gender, dtype: int64\n",
      "temperature   -2.303220\n",
      "heart_rate    -0.636824\n",
      "dtype: float64\n"
     ]
    }
   ],
   "source": [
    "#6. Difference in temperature between males and females. 65 of each so can do two sample z-test. \n",
    "#Null hypothesis is absolute value of male pop. mean - female pop.mean = 0. With 95% confidence, Z can't out of +- 1.96\n",
    "print(df.gender.value_counts())\n",
    "data_male=df[df.gender=='M']\n",
    "data_male\n",
    "data_female=df[df.gender=='F']\n",
    "Z=(np.mean(data_male)-np.mean(data_female))/(np.sqrt((np.var(data_male)/len(data_male))+(np.var(data_female)/len(data_female))))\n",
    "print(Z)\n",
    "#Since temperature's Z-statistic is <1.96, we reject the null hypothesis and say there is a difference between male and female temperatures\n"
   ]
  }
 ],
 "metadata": {
  "kernelspec": {
   "display_name": "Python 3",
   "language": "python",
   "name": "python3"
  },
  "language_info": {
   "codemirror_mode": {
    "name": "ipython",
    "version": 3
   },
   "file_extension": ".py",
   "mimetype": "text/x-python",
   "name": "python",
   "nbconvert_exporter": "python",
   "pygments_lexer": "ipython3",
   "version": "3.6.4"
  }
 },
 "nbformat": 4,
 "nbformat_minor": 1
}
